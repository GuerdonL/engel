{
 "cells": [
  {
   "cell_type": "code",
   "execution_count": 4,
   "id": "53744a6a-5b12-4d1f-9d4e-bb3930a73a8a",
   "metadata": {},
   "outputs": [],
   "source": [
    "import cfe.regression as rgsn"
   ]
  },
  {
   "cell_type": "code",
   "execution_count": null,
   "id": "03435c98-57f9-4a35-ac26-7cc519ace572",
   "metadata": {},
   "outputs": [],
   "source": []
  }
 ],
 "metadata": {
  "kernelspec": {
   "display_name": ".venv",
   "language": "python",
   "name": ".venv"
  },
  "language_info": {
   "codemirror_mode": {
    "name": "ipython",
    "version": 3
   },
   "file_extension": ".py",
   "mimetype": "text/x-python",
   "name": "python",
   "nbconvert_exporter": "python",
   "pygments_lexer": "ipython3",
   "version": "3.10.12"
  }
 },
 "nbformat": 4,
 "nbformat_minor": 5
}
