{
 "cells": [
  {
   "cell_type": "code",
   "execution_count": 1,
   "id": "66c9d8ae-9157-4a87-be8b-d086e4db14bf",
   "metadata": {},
   "outputs": [],
   "source": [
    "import warnings\n",
    "warnings.simplefilter(action='ignore', category=FutureWarning)\n",
    "warnings.simplefilter(action='ignore', category=UserWarning)\n"
   ]
  },
  {
   "cell_type": "code",
   "execution_count": 2,
   "id": "c6fe7562-5a08-4551-af44-ac50245b7a6e",
   "metadata": {},
   "outputs": [
    {
     "name": "stdout",
     "output_type": "stream",
     "text": [
      "Missing dependencies for OracleDemands.\n"
     ]
    }
   ],
   "source": [
    "import matplotlib.pyplot as plt\n",
    "import cfe.regression as rgsn\n",
    "import numpy as np\n",
    "from scipy.stats import gaussian_kde as kde\n",
    "from cfe.df_utils import use_indices"
   ]
  },
  {
   "cell_type": "code",
   "execution_count": 18,
   "id": "8dfd1886-d36b-41a3-9164-b77943853035",
   "metadata": {},
   "outputs": [],
   "source": [
    "def init_label(label, ax):\n",
    "    txt = ax.text(label.x, label.y, label.text, fontsize=label.font_size, rotation=label.rotation, transform = ax.transData)\n",
    "    bbox = txt.get_window_extent(renderer=ax.get_figure().canvas.get_renderer())\n",
    "    label.bbox = bbox\n",
    "    txt.remove()\n",
    "    \n",
    "def first_pass_clearing(labels, ax):\n",
    "    for i,label1 in enumerate(labels):\n",
    "        for j,label2 in enumerate(labels):\n",
    "            if check_collision(label1,label2):\n",
    "                assert not(label1.postion_strict and label2.position_strict), \"Overlap of strictly positioned labels: \"+label1.text+\", and \"+label2.text\n",
    "                \n",
    "                if label1.position_strict:\n",
    "                    labels.pop(j)\n",
    "                elif label2.position_strict:\n",
    "                    labels.pop(i)\n",
    "\n",
    "                elif label1.font_size >= label2.font_size:\n",
    "                    labels.pop(j)\n",
    "                else:\n",
    "                    labels.pop(i)\n",
    "        \n",
    "def update_labels(labels, ax):\n",
    "    for label in labels:\n",
    "        if label.position_strict:\n",
    "            continue\n",
    "        if label.target_font_size <= label.font_size:\n",
    "            continue\n",
    "\n",
    "        label.font_size+=1\n",
    "        txt = ax.text(label.x, label.y, label.text, fontsize=label.font_size, rotation=label.rotation, \n",
    "                      transform=ax.transData)\n",
    "\n",
    "        bbox = txt.get_window_extent(renderer=ax.get_figure().canvas.get_renderer())\n",
    "\n",
    "        label.bbox = bbox\n",
    "\n",
    "        for label2 in labels:\n",
    "            if check_collision(label,label2):\n",
    "                label.font_size-=1\n",
    "        txt.remove()\n",
    "def check_collision(label1, label2):\n",
    "    return label1.bbox.overlaps(label2.bbox)\n",
    "def add_labels(labels,ax):\n",
    "    for label in labels:\n",
    "        ax.text(label.x, label.y, label.text, fontsize=label.font_size, rotation=label.rotation, transform=ax.transData, color=label.color)"
   ]
  },
  {
   "cell_type": "code",
   "execution_count": 19,
   "id": "905a3677-62bc-41ae-9380-49c9b0f3af4f",
   "metadata": {},
   "outputs": [],
   "source": [
    "from abc import abstractmethod, ABC\n",
    "class EngelLabel:\n",
    "    def __init__(\n",
    "        self,\n",
    "        target_font_size,\n",
    "        position,\n",
    "        font_size = 0,\n",
    "        position_strict = False,\n",
    "        color = 'black',\n",
    "        deg_rotation = 0\n",
    "                ):\n",
    "        self.bbox = None\n",
    "        self.target_font_size = target_font_size\n",
    "        self.position_strict = position_strict\n",
    "        self.color = color\n",
    "        \n",
    "class BaseEngelPie(ABC):\n",
    "    def plot_axis(self,ax):\n",
    "        ax.arrow(0,0,1,0,shape='full',head_width=.05,length_includes_head=True)\n",
    "        ax.annotate(r\"$\\log x$\", xy=(1,0),color='red')    \n",
    "    def annotate(self):\n",
    "        ...\n",
    "    def label(self):\n",
    "        ...\n",
    "    @abstractmethod\n",
    "    def graph(\n",
    "        self, \n",
    "        post_graphing_fn = lambda ax: ax\n",
    "             ):\n",
    "        plot_axis(ax)\n",
    "        label(ax)\n",
    "        post_graphing_fn(ax)\n",
    "        return plt"
   ]
  },
  {
   "cell_type": "code",
   "execution_count": 26,
   "id": "ef9d1afb-fd5f-4138-88a9-b02d5f31bbc4",
   "metadata": {},
   "outputs": [],
   "source": [
    "class RgsnEngelPie(BaseEngelPie):\n",
    "    # data needs to be\n",
    "    def __init__(self, data_path = None, data = None):\n",
    "        assert (data_path or data)\n",
    "        \n",
    "        self.data_path = data_path\n",
    "        self.data = data\n",
    "        self.r = rgsn.read_pickle(self.data_path) if data_path else data\n",
    "        self.xbar = None\n",
    "        self.x99 = None\n",
    "        self.Y = None\n",
    "        self.p = None\n",
    "        self.shares = None\n",
    "        self.stats_computed = False\n",
    "\n",
    "    def compute_statistics(self):\n",
    "        predicted_expenditures = self.r.predicted_expenditures()\n",
    "        grouped = predicted_expenditures.groupby(['i','t','m'])\n",
    "        self.xbar = grouped.sum()\n",
    "        \n",
    "        self.x99 = self.xbar.quantile(0.99)\n",
    "        \n",
    "        self.Y = np.geomspace(1, self.x99, 100)\n",
    "        \n",
    "        y = self.r.y\n",
    "        unstacked = y.unstack('j')\n",
    "        booleaned = unstacked>0\n",
    "        floated = booleaned+0.\n",
    "        self.p = floated.mean()\n",
    "        \n",
    "        grouped_j = predicted_expenditures.groupby('j')\n",
    "        grouped_j_sum = grouped_j.sum()\n",
    "        self.shares = grouped_j_sum * self.p\n",
    "        \n",
    "        self.stats_computed = True\n",
    "    def graph(self,fn=lambda ax: ax):\n",
    "        if not self.stats_computed: self.compute_statistics(self)\n",
    "\n",
    "        fig, ax = plt.subplots()\n",
    "\n",
    "        labels = list()\n",
    "        for label in self.shares.index.tolist():\n",
    "            labels.append(EngelLabel(TODO: magnitude of label,position,\n",
    "        \n",
    "        ax.pie(self.shares, labels=self.shares.index.tolist(), rotatelabels=False)\n",
    "        \n",
    "        for i in range(len(self.Y)-1,0,-1):\n",
    "            ax.pie(self.r.expenditures(self.Y[i])*self.p,radius=np.log(self.Y[i])/np.log(self.x99))\n",
    "        \n",
    "        ax.arrow(0,0,1,0,shape='full',head_width=.05,length_includes_head=True)\n",
    "        ax.annotate(r\"$\\log x$\", xy=(1,0),color='red')\n",
    "        return plt\n",
    "        # return AbstractEngelPie.graph(self)"
   ]
  },
  {
   "cell_type": "code",
   "execution_count": 21,
   "id": "b76573d9-c585-4d5a-84af-d479820c8a32",
   "metadata": {},
   "outputs": [],
   "source": [
    "# Example usage:\n",
    "file_path = '../data/preferred.rgsn'\n",
    "chart = RgsnEngelPie(file_path)"
   ]
  },
  {
   "cell_type": "code",
   "execution_count": 22,
   "id": "cbad6aa2-ea51-45d1-bf25-50529a3d007d",
   "metadata": {},
   "outputs": [],
   "source": [
    "chart.compute_statistics()"
   ]
  },
  {
   "cell_type": "code",
   "execution_count": 27,
   "id": "a51b538b-a89a-447a-a499-95a97345db7b",
   "metadata": {},
   "outputs": [
    {
     "ename": "TypeError",
     "evalue": "RgsnEngelPie.graph() missing 1 required positional argument: 'fn'",
     "output_type": "error",
     "traceback": [
      "\u001b[0;31m---------------------------------------------------------------------------\u001b[0m",
      "\u001b[0;31mTypeError\u001b[0m                                 Traceback (most recent call last)",
      "Cell \u001b[0;32mIn[27], line 1\u001b[0m\n\u001b[0;32m----> 1\u001b[0m plt \u001b[38;5;241m=\u001b[39m \u001b[43mchart\u001b[49m\u001b[38;5;241;43m.\u001b[39;49m\u001b[43mgraph\u001b[49m\u001b[43m(\u001b[49m\u001b[43m)\u001b[49m\n",
      "\u001b[0;31mTypeError\u001b[0m: RgsnEngelPie.graph() missing 1 required positional argument: 'fn'"
     ]
    }
   ],
   "source": [
    "plt = chart.graph()"
   ]
  }
 ],
 "metadata": {
  "kernelspec": {
   "display_name": ".venv",
   "language": "python",
   "name": ".venv"
  },
  "language_info": {
   "codemirror_mode": {
    "name": "ipython",
    "version": 3
   },
   "file_extension": ".py",
   "mimetype": "text/x-python",
   "name": "python",
   "nbconvert_exporter": "python",
   "pygments_lexer": "ipython3",
   "version": "3.10.12"
  }
 },
 "nbformat": 4,
 "nbformat_minor": 5
}
