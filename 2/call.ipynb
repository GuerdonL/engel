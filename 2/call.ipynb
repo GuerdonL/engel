{
 "cells": [
  {
   "cell_type": "code",
   "execution_count": 4,
   "id": "53744a6a-5b12-4d1f-9d4e-bb3930a73a8a",
   "metadata": {},
   "outputs": [],
   "source": [
    "import cfe.regression as rgsn"
   ]
  },
  {
   "cell_type": "code",
   "execution_count": 6,
   "id": "03435c98-57f9-4a35-ac26-7cc519ace572",
   "metadata": {},
   "outputs": [],
   "source": [
    "r = rgsn.read_pickle('../data/preferred.rgsn')"
   ]
  },
  {
   "cell_type": "code",
   "execution_count": 7,
   "id": "5e107910-847d-4e8e-b074-d835ac6963b3",
   "metadata": {},
   "outputs": [
    {
     "ename": "ModuleNotFoundError",
     "evalue": "No module named 'engel'",
     "output_type": "error",
     "traceback": [
      "\u001b[0;31m---------------------------------------------------------------------------\u001b[0m",
      "\u001b[0;31mModuleNotFoundError\u001b[0m                       Traceback (most recent call last)",
      "Cell \u001b[0;32mIn[7], line 1\u001b[0m\n\u001b[0;32m----> 1\u001b[0m \u001b[38;5;28;01mimport\u001b[39;00m \u001b[38;5;21;01mengel\u001b[39;00m\n",
      "\u001b[0;31mModuleNotFoundError\u001b[0m: No module named 'engel'"
     ]
    }
   ],
   "source": [
    "import engel"
   ]
  }
 ],
 "metadata": {
  "kernelspec": {
   "display_name": ".venv",
   "language": "python",
   "name": ".venv"
  },
  "language_info": {
   "codemirror_mode": {
    "name": "ipython",
    "version": 3
   },
   "file_extension": ".py",
   "mimetype": "text/x-python",
   "name": "python",
   "nbconvert_exporter": "python",
   "pygments_lexer": "ipython3",
   "version": "3.10.12"
  }
 },
 "nbformat": 4,
 "nbformat_minor": 5
}
