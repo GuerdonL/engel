{
 "cells": [
  {
   "cell_type": "code",
   "execution_count": 4,
   "id": "compressed-wallet",
   "metadata": {},
   "outputs": [],
   "source": [
    "import matplotlib.pyplot as plt\n",
    "import cfe.regression as rgsn\n",
    "import numpy as np\n",
    "import matplotlib.cm\n",
    "from scipy.stats import gaussian_kde as kde\n",
    "from cfe.df_utils import use_indices"
   ]
  },
  {
   "cell_type": "code",
   "execution_count": 5,
   "id": "competitive-needle",
   "metadata": {},
   "outputs": [],
   "source": [
    "#data load\n",
    "r = rgsn.read_pickle('./data/preferred.rgsn')\n"
   ]
  },
  {
   "cell_type": "code",
   "execution_count": 45,
   "id": "turkish-circuit",
   "metadata": {},
   "outputs": [],
   "source": [
    "#data prep\n",
    "# was 99th quantile, acutally the highest total expenditures\n",
    "x99 = xbar.quantile(1)\n",
    "\n",
    "Y = np.geomspace(1,x99,100)#geomspace(start, stop, num=50, endpoint=True, dtype=None, axis=0)"
   ]
  },
  {
   "cell_type": "code",
   "execution_count": null,
   "id": "roman-guard",
   "metadata": {},
   "outputs": [],
   "source": [
    "#imports\n",
    "#bring in some data and typecast to a pandas series\n",
    "#f is \n",
    "#um something about the mean being assigned to p"
   ]
  },
  {
   "cell_type": "code",
   "execution_count": 7,
   "id": "addressed-compensation",
   "metadata": {},
   "outputs": [],
   "source": [
    "# what does this do???\n",
    "p = ((r.y.unstack('j')>0) + 0.).mean()"
   ]
  },
  {
   "cell_type": "code",
   "execution_count": 34,
   "id": "plastic-outside",
   "metadata": {},
   "outputs": [
    {
     "name": "stdout",
     "output_type": "stream",
     "text": [
      "j\n",
      "Beans              0.832267\n",
      "Beef               0.363600\n",
      "Beer               0.068178\n",
      "Bottled Drinks     0.170622\n",
      "Buns               0.235644\n",
      "Butter, etc.       0.036178\n",
      "Cabbages           0.293422\n",
      "Cassava (flour)    0.236000\n",
      "Chicken            0.113200\n",
      "Cigarettes         0.055689\n",
      "Coffee             0.059378\n",
      "Cooking Oil        0.705378\n",
      "Dodo               0.443067\n",
      "Eggs               0.164800\n",
      "Fish (dried)       0.253289\n",
      "Fish (fresh)       0.275156\n",
      "Goat               0.082311\n",
      "Irish Potatoes     0.151733\n",
      "Maize              0.683689\n",
      "Mangos             0.171956\n",
      "Matoke             0.518667\n",
      "Millet             0.187644\n",
      "Onions             0.822356\n",
      "Oranges            0.104578\n",
      "Other Alcohol      0.159200\n",
      "Other Fruit        0.375156\n",
      "Other Juice        0.024044\n",
      "Other Veg.         0.505867\n",
      "Passion Fruit      0.104444\n",
      "Peas               0.106489\n",
      "Pork               0.079733\n",
      "Restaurant         0.164444\n",
      "Rice               0.327422\n",
      "Salt               0.982000\n",
      "Sim Sim            0.123956\n",
      "Sorghum            0.140267\n",
      "Sweet Banana       0.169511\n",
      "Sweet Potatoes     0.496356\n",
      "Tea                0.671600\n",
      "Tomatoes           0.785689\n",
      "dtype: float64\n",
      "j\n",
      "Beans              1.801810e+03\n",
      "Beef               6.668298e+04\n",
      "Beer               1.004442e+05\n",
      "Bottled Drinks     4.205215e+05\n",
      "Buns               1.533361e+06\n",
      "Butter, etc.       3.622157e+03\n",
      "Cabbages           1.405432e+04\n",
      "Cassava (flour)    2.551736e+02\n",
      "Chicken            4.754154e+03\n",
      "Cigarettes         8.532462e+03\n",
      "Coffee             5.767098e+06\n",
      "Cooking Oil        1.016439e+05\n",
      "Dodo               6.470841e+03\n",
      "Eggs               1.211695e+05\n",
      "Fish (dried)       8.920984e+04\n",
      "Fish (fresh)       3.572730e+05\n",
      "Goat               1.147431e+04\n",
      "Irish Potatoes     7.845475e+03\n",
      "Maize              3.233034e+03\n",
      "Mangos             3.616795e+05\n",
      "Matoke             5.889422e+04\n",
      "Millet             1.151244e+03\n",
      "Onions             6.861852e+03\n",
      "Oranges            2.634820e+06\n",
      "Other Alcohol      2.415387e+03\n",
      "Other Fruit        3.195674e+06\n",
      "Other Juice        1.108539e+06\n",
      "Other Veg.         1.140352e+05\n",
      "Passion Fruit      2.396001e+07\n",
      "Peas               6.046503e+03\n",
      "Pork               4.525821e+03\n",
      "Restaurant         3.967233e+04\n",
      "Rice               5.087247e+04\n",
      "Salt               2.260236e+01\n",
      "Sim Sim            1.524042e+03\n",
      "Sorghum            9.248778e+02\n",
      "Sweet Banana       1.713222e+06\n",
      "Sweet Potatoes     9.276054e+02\n",
      "Tea                1.916875e+03\n",
      "Tomatoes           4.314707e+04\n",
      "dtype: float64\n"
     ]
    }
   ],
   "source": [
    "print((r.y.unstack('j')>0 +0.).mean())\n",
    "print(r.expenditures(Y[-1]))"
   ]
  },
  {
   "cell_type": "code",
   "execution_count": 8,
   "id": "alert-powell",
   "metadata": {},
   "outputs": [],
   "source": [
    "def circle(r):\n",
    "    angles = np.linspace(0,2*np.pi,100)\n",
    "    return r*np.cos(angles),r*np.sin(angles)\n",
    "\n",
    "def point_on_circle(theta,r):\n",
    "    return r*np.cos(theta),r*np.sin(theta)"
   ]
  },
  {
   "cell_type": "code",
   "execution_count": 10,
   "id": "collaborative-maria",
   "metadata": {},
   "outputs": [
    {
     "data": {
      "text/plain": [
       "Text(1, 0, '$\\\\log x$')"
      ]
     },
     "execution_count": 10,
     "metadata": {},
     "output_type": "execute_result"
    },
    {
     "data": {
      "image/png": "[encoded data removed]",
      "text/plain": [
       "<Figure size 432x288 with 1 Axes>"
      ]
     },
     "metadata": {},
     "output_type": "display_data"
    }
   ],
   "source": [
    "fig,ax = plt.subplots()\n",
    "\n",
    "# Select labels that will fit\n",
    "shares = r.expenditures(Y[-1])*p\n",
    "shares = shares/shares.sum()\n",
    "labels = use_indices(shares,['j'])\n",
    "labels['shares'] = shares\n",
    "labels = labels.j.where(labels.shares>0.01,'').tolist()\n",
    "\n",
    "ax.pie(shares,labels=labels,rotatelabels=True,labeldistance=1.02)\n",
    "\n",
    "for i in range(len(Y)-1,0,-1):\n",
    "    ax.pie(r.expenditures(Y[i])*p,radius=np.log(Y[i])/np.log(x99))\n",
    "\n",
    "ax.arrow(0,0,1,0,shape='full',head_width=.05,length_includes_head=True)\n",
    "ax.annotate(r\"$\\log x$\", xy=(1,0),color='red')"
   ]
  },
  {
   "cell_type": "code",
   "execution_count": 12,
   "id": "protective-financing",
   "metadata": {},
   "outputs": [
    {
     "data": {
      "text/plain": [
       "Text(1.1, 0.9, '1%')"
      ]
     },
     "execution_count": 12,
     "metadata": {},
     "output_type": "execute_result"
    }
   ],
   "source": [
    "ax.plot(*circle(np.log(xbar.quantile(0.01))/np.log(x99)),'k')\n",
    "ax.plot(*circle(np.log(xbar.quantile(0.5))/np.log(x99)),'k')\n",
    "ax.plot(*circle(np.log(xbar.quantile(0.99))/np.log(x99)),'k')\n",
    "\n",
    "ax.annotate(\"99%\", xy=point_on_circle(np.pi/3,np.log(xbar.quantile(0.99))/np.log(x99)), xytext=(.9, 1.1), arrowprops=dict(arrowstyle=\"->\"))\n",
    "ax.annotate(\"Median\", xy=point_on_circle(np.pi/3,np.log(xbar.quantile(0.5))/np.log(x99)), xytext=(1, 1), arrowprops=dict(arrowstyle=\"->\"))\n",
    "ax.annotate(\"1%\", xy=point_on_circle(np.pi/3,np.log(xbar.quantile(0.01))/np.log(x99)), xytext=(1.1, 0.9), arrowprops=dict(arrowstyle=\"->\"))"
   ]
  },
  {
   "cell_type": "code",
   "execution_count": 13,
   "id": "novel-vatican",
   "metadata": {},
   "outputs": [],
   "source": [
    "ax.get_figure().savefig('./out/engel_pie-0.png')"
   ]
  },
  {
   "cell_type": "code",
   "execution_count": 44,
   "id": "particular-postcard",
   "metadata": {},
   "outputs": [],
   "source": [
    "def make_engel_pie(r: rgsn.Regression) -> plt.Axes:\n",
    "    def circle(r):\n",
    "        angles = np.linspace(0,2*np.pi,100)\n",
    "        return r*np.cos(angles),r*np.sin(angles)\n",
    "\n",
    "    def point_on_circle(theta,r):\n",
    "        return r*np.cos(theta),r*np.sin(theta)    \n",
    "    \n",
    "    xbar = r.predicted_expenditures().groupby(['i','t','m']).sum()\n",
    "    x99 = xbar.quantile(1)\n",
    "    Y = np.geomspace(1,x99,100)    \n",
    "    p = ((r.y.unstack('j')>0) + 0.).mean()\n",
    "    fig,ax = plt.subplots()\n",
    "    \n",
    "    shares = r.expenditures(Y[-1])*p\n",
    "    shares = shares/shares.sum()\n",
    "    labels = use_indices(shares,['j'])\n",
    "    labels['shares'] = shares\n",
    "    labels = labels.j.where(labels.shares>0.01,'').tolist()\n",
    "\n",
    "    ax.pie(shares,labels=labels,rotatelabels=True,labeldistance=1.02)\n",
    "\n",
    "    for i in range(len(Y)-1,0,-1):\n",
    "        ax.pie(r.expenditures(Y[i])*p,radius=np.log(Y[i])/np.log(x99))\n",
    "\n",
    "    ax.arrow(0,0,1,0,shape='full',head_width=.05,length_includes_head=True)\n",
    "    ax.annotate(r\"$\\log x$\", xy=(1,0),color='red')    \n",
    "    \n",
    "    ax.plot(*circle(np.log(xbar.quantile(0.01))/np.log(x99)),'k')\n",
    "    ax.plot(*circle(np.log(xbar.quantile(0.5))/np.log(x99)),'k')\n",
    "    ax.plot(*circle(np.log(xbar.quantile(0.99))/np.log(x99)),'k')\n",
    "\n",
    "    ax.annotate(\"99%\", xy=point_on_circle(np.pi/3,np.log(xbar.quantile(0.99))/np.log(x99)), xytext=(.9, 1.1), arrowprops=dict(arrowstyle=\"->\"))\n",
    "    ax.annotate(\"Median\", xy=point_on_circle(np.pi/3,np.log(xbar.quantile(0.5))/np.log(x99)), xytext=(1, 1), arrowprops=dict(arrowstyle=\"->\"))\n",
    "    ax.annotate(\"1%\", xy=point_on_circle(np.pi/3,np.log(xbar.quantile(0.01))/np.log(x99)), xytext=(1.1, 0.9), arrowprops=dict(arrowstyle=\"->\"))    \n",
    "    \n",
    "    return ax"
   ]
  },
  {
   "cell_type": "code",
   "execution_count": 90,
   "id": "mobile-invention",
   "metadata": {},
   "outputs": [
    {
     "data": {
      "text/plain": [
       "(-0.4416286057643224, 0.582822176817965)"
      ]
     },
     "execution_count": 90,
     "metadata": {},
     "output_type": "execute_result"
    }
   ],
   "source": [
    "x1=np.log(xbar.quantile(0.99))/np.log(x99)\n",
    "x2=np.log(xbar.quantile(0.01))/np.log(x99)\n",
    "\n",
    "xy1=point_on_circle(np.pi-np.cos(0.1*x1),x1)\n",
    "xy1=(xy1[0],xy1[1]-.1)\n",
    "xy1"
   ]
  },
  {
   "cell_type": "code",
   "execution_count": 70,
   "id": "productive-longer",
   "metadata": {},
   "outputs": [
    {
     "data": {
      "text/plain": [
       "(-0.6802106960902015, 8.330178517126582e-17)"
      ]
     },
     "execution_count": 70,
     "metadata": {},
     "output_type": "execute_result"
    }
   ],
   "source": [
    "xy2=point_on_circle(np.pi,np.log(xbar.quantile(0.5))/np.log(x99))\n",
    "xy2"
   ]
  },
  {
   "cell_type": "code",
   "execution_count": 91,
   "id": "political-explorer",
   "metadata": {},
   "outputs": [
    {
     "data": {
      "text/plain": [
       "(-0.31451907077958946, -0.5880238042881503)"
      ]
     },
     "execution_count": 91,
     "metadata": {},
     "output_type": "execute_result"
    }
   ],
   "source": [
    "xy3=point_on_circle(np.pi+np.cos(0.1*x2),x2)\n",
    "xy3=(xy3[0],xy3[1]-.1)\n",
    "xy3"
   ]
  },
  {
   "cell_type": "code",
   "execution_count": 50,
   "id": "musical-background",
   "metadata": {},
   "outputs": [
    {
     "data": {
      "text/plain": [
       "3.060363004499307"
      ]
     },
     "execution_count": 50,
     "metadata": {},
     "output_type": "execute_result"
    }
   ],
   "source": [
    "np.pi-np.sin(0.1*x1)"
   ]
  },
  {
   "cell_type": "code",
   "execution_count": 93,
   "id": "stylish-proposal",
   "metadata": {},
   "outputs": [
    {
     "data": {
      "text/plain": [
       "False"
      ]
     },
     "execution_count": 93,
     "metadata": {},
     "output_type": "execute_result"
    }
   ],
   "source": [
    "np.isclose(np.average([xy1[1],xy3[1]]),xy2[1])\n"
   ]
  },
  {
   "cell_type": "code",
   "execution_count": 94,
   "id": "accredited-renewal",
   "metadata": {},
   "outputs": [
    {
     "data": {
      "text/plain": [
       "0.8131924437571734"
      ]
     },
     "execution_count": 94,
     "metadata": {},
     "output_type": "execute_result"
    }
   ],
   "source": [
    "x1"
   ]
  }
 ],
 "metadata": {
  "kernelspec": {
   "display_name": "Python 3 (ipykernel)",
   "language": "python",
   "name": "python3"
  },
  "language_info": {
   "codemirror_mode": {
    "name": "ipython",
    "version": 3
   },
   "file_extension": ".py",
   "mimetype": "text/x-python",
   "name": "python",
   "nbconvert_exporter": "python",
   "pygments_lexer": "ipython3",
   "version": "3.10.12"
  }
 },
 "nbformat": 4,
 "nbformat_minor": 5
}
